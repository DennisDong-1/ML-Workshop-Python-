{
 "cells": [
  {
   "cell_type": "code",
   "execution_count": 1,
   "id": "e980ec59",
   "metadata": {},
   "outputs": [],
   "source": [
    "import pandas as pd\n",
    "import numpy as np"
   ]
  },
  {
   "cell_type": "code",
   "execution_count": null,
   "id": "f1b28d8c",
   "metadata": {},
   "outputs": [],
   "source": [
    "# DataFrames in python -> 2-dimensional, labeled data structure with columns that can be of different types, similar to a spreadsheet or SQL table\n",
    "# primary ds in the pandas library, essential for data analysis in Python\n",
    "\n",
    "# Creation\n",
    "# From a dictionary\n",
    "\n",
    "student_data = {\"name\": [\"Dennis\", \"Likhil\"],\n",
    "                \"age\": [23, 22],\n",
    "                \"address\": [\"Samakhusi\", \"Nagarjun\"]}\n",
    "\n",
    "sd_frame = pd.DataFrame(student_data)\n",
    "print(sd_frame)"
   ]
  },
  {
   "cell_type": "code",
   "execution_count": null,
   "id": "1fb666ec",
   "metadata": {},
   "outputs": [],
   "source": [
    "# From a list of lists\n",
    "\n",
    "employee_data = [[\"Pratik\", \"Accountant\", \"Thankot\"],\n",
    "                 [\"Ashutosh\", \"Manager\", \"Goldhunga\"]]\n",
    "\n",
    "ed_frame = pd.DataFrame(employee_data, columns = [\"name\", \"age\", \"address\"])\n",
    "\n",
    "print(ed_frame)"
   ]
  },
  {
   "cell_type": "code",
   "execution_count": null,
   "id": "5f8e5eb2",
   "metadata": {},
   "outputs": [],
   "source": [
    "# From a list of dictionaries\n",
    "\n",
    "player_info  = [\n",
    "    {'name': 'Cristiano', 'position': 'CF'},\n",
    "    {'name': 'Messi', 'position': 'RW'},\n",
    "    {'name': 'Busquets', 'position': 'CM'},\n",
    "    {'name': 'Mount', 'position': 'CDM'}\n",
    "]\n",
    "\n",
    "pi_frame = pd.DataFrame(player_info)\n",
    "print(pi_frame)"
   ]
  },
  {
   "cell_type": "code",
   "execution_count": null,
   "id": "bcda0379",
   "metadata": {},
   "outputs": [],
   "source": [
    "# From a csv file\n",
    "\n",
    "df_1 = pd.read_csv('./data/sample.csv')\n",
    "print(df_1)\n",
    "\n",
    "df_2 = pd.read_csv('housing.csv')\n",
    "print(df_2)"
   ]
  },
  {
   "cell_type": "code",
   "execution_count": 27,
   "id": "c8ca210e",
   "metadata": {},
   "outputs": [
    {
     "name": "stdout",
     "output_type": "stream",
     "text": [
      "  brand quality  clothes\n",
      "0   H&M    good    pants\n",
      "1  Nike  better    shoes\n",
      "2  Zara    best  jackets\n",
      "\n",
      "--------------------------------------------------\n",
      "\n",
      "brand         Zara\n",
      "quality       best\n",
      "clothes    jackets\n",
      "Name: 2, dtype: object\n",
      "brand         Zara\n",
      "quality       best\n",
      "clothes    jackets\n",
      "Name: 2, dtype: object\n"
     ]
    }
   ],
   "source": [
    "# From dictionary of lists\n",
    "\n",
    "c_brands = {\n",
    "    'brand': ['H&M', 'Nike', 'Zara'],\n",
    "    'quality': ['good', 'better', 'best'],\n",
    "    'clothes': ['pants', 'shoes', 'jackets']\n",
    "}\n",
    "\n",
    "df = pd.DataFrame(c_brands)\n",
    "print(df)\n",
    "print(\"\\n\" + \"-\"*50 + \"\\n\")\n",
    "\n",
    "print(df.loc[2])\n",
    "print(df.iloc[2])"
   ]
  }
 ],
 "metadata": {
  "kernelspec": {
   "display_name": "base",
   "language": "python",
   "name": "python3"
  },
  "language_info": {
   "codemirror_mode": {
    "name": "ipython",
    "version": 3
   },
   "file_extension": ".py",
   "mimetype": "text/x-python",
   "name": "python",
   "nbconvert_exporter": "python",
   "pygments_lexer": "ipython3",
   "version": "3.12.7"
  }
 },
 "nbformat": 4,
 "nbformat_minor": 5
}
