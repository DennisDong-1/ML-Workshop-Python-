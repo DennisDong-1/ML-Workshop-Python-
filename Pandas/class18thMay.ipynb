{
 "cells": [
  {
   "cell_type": "code",
   "execution_count": 5,
   "id": "ffb008dc",
   "metadata": {},
   "outputs": [
    {
     "data": {
      "text/html": [
       "<div>\n",
       "<style scoped>\n",
       "    .dataframe tbody tr th:only-of-type {\n",
       "        vertical-align: middle;\n",
       "    }\n",
       "\n",
       "    .dataframe tbody tr th {\n",
       "        vertical-align: top;\n",
       "    }\n",
       "\n",
       "    .dataframe thead th {\n",
       "        text-align: right;\n",
       "    }\n",
       "</style>\n",
       "<table border=\"1\" class=\"dataframe\">\n",
       "  <thead>\n",
       "    <tr style=\"text-align: right;\">\n",
       "      <th></th>\n",
       "      <th>Empid</th>\n",
       "      <th>Employeeename</th>\n",
       "      <th>Department</th>\n",
       "      <th>Salary</th>\n",
       "      <th>Age</th>\n",
       "      <th>Designation</th>\n",
       "    </tr>\n",
       "  </thead>\n",
       "  <tbody>\n",
       "    <tr>\n",
       "      <th>0</th>\n",
       "      <td>E001</td>\n",
       "      <td>Laura Johnson</td>\n",
       "      <td>Finance</td>\n",
       "      <td>53220.17</td>\n",
       "      <td>38</td>\n",
       "      <td>Director</td>\n",
       "    </tr>\n",
       "    <tr>\n",
       "      <th>1</th>\n",
       "      <td>E002</td>\n",
       "      <td>Chris Rodriguez</td>\n",
       "      <td>Finance</td>\n",
       "      <td>72196.74</td>\n",
       "      <td>24</td>\n",
       "      <td>Executive</td>\n",
       "    </tr>\n",
       "    <tr>\n",
       "      <th>2</th>\n",
       "      <td>E003</td>\n",
       "      <td>Katie Martinez</td>\n",
       "      <td>NaN</td>\n",
       "      <td>43300.98</td>\n",
       "      <td>57</td>\n",
       "      <td>NaN</td>\n",
       "    </tr>\n",
       "    <tr>\n",
       "      <th>3</th>\n",
       "      <td>E004</td>\n",
       "      <td>Emily Smith</td>\n",
       "      <td>Sales</td>\n",
       "      <td>72241.28</td>\n",
       "      <td>NaN</td>\n",
       "      <td>Manager</td>\n",
       "    </tr>\n",
       "    <tr>\n",
       "      <th>4</th>\n",
       "      <td>E005</td>\n",
       "      <td>David Martinez</td>\n",
       "      <td>IT</td>\n",
       "      <td>115553.77</td>\n",
       "      <td>23</td>\n",
       "      <td>Director</td>\n",
       "    </tr>\n",
       "  </tbody>\n",
       "</table>\n",
       "</div>"
      ],
      "text/plain": [
       "  Empid    Employeeename Department     Salary  Age Designation\n",
       "0  E001    Laura Johnson    Finance   53220.17   38    Director\n",
       "1  E002  Chris Rodriguez    Finance   72196.74   24   Executive\n",
       "2  E003   Katie Martinez        NaN   43300.98   57         NaN\n",
       "3  E004      Emily Smith      Sales   72241.28  NaN     Manager\n",
       "4  E005   David Martinez         IT  115553.77   23    Director"
      ]
     },
     "execution_count": 5,
     "metadata": {},
     "output_type": "execute_result"
    }
   ],
   "source": [
    "import pandas as pd\n",
    "import numpy as np\n",
    "\n",
    "df_employee = pd.read_csv('employee_dataset.csv')\n",
    "df_employee.head()"
   ]
  },
  {
   "cell_type": "code",
   "execution_count": 8,
   "id": "5925855e",
   "metadata": {},
   "outputs": [
    {
     "data": {
      "text/plain": [
       "Empid             0\n",
       "Employeeename     0\n",
       "Department       13\n",
       "Salary           13\n",
       "Age               9\n",
       "Designation       9\n",
       "dtype: int64"
      ]
     },
     "execution_count": 8,
     "metadata": {},
     "output_type": "execute_result"
    }
   ],
   "source": [
    "df_employee.isna().sum()"
   ]
  },
  {
   "cell_type": "code",
   "execution_count": 7,
   "id": "23274276",
   "metadata": {},
   "outputs": [
    {
     "name": "stdout",
     "output_type": "stream",
     "text": [
      "<class 'pandas.core.frame.DataFrame'>\n",
      "RangeIndex: 100 entries, 0 to 99\n",
      "Data columns (total 6 columns):\n",
      " #   Column         Non-Null Count  Dtype  \n",
      "---  ------         --------------  -----  \n",
      " 0   Empid          100 non-null    object \n",
      " 1   Employeeename  100 non-null    object \n",
      " 2   Department     87 non-null     object \n",
      " 3   Salary         87 non-null     float64\n",
      " 4   Age            91 non-null     object \n",
      " 5   Designation    91 non-null     object \n",
      "dtypes: float64(1), object(5)\n",
      "memory usage: 4.8+ KB\n"
     ]
    }
   ],
   "source": [
    "df_employee.info()"
   ]
  },
  {
   "cell_type": "code",
   "execution_count": null,
   "id": "7053fcb8",
   "metadata": {},
   "outputs": [],
   "source": [
    "df_employee.fillna(value=None) #try yourself"
   ]
  }
 ],
 "metadata": {
  "kernelspec": {
   "display_name": "base",
   "language": "python",
   "name": "python3"
  },
  "language_info": {
   "codemirror_mode": {
    "name": "ipython",
    "version": 3
   },
   "file_extension": ".py",
   "mimetype": "text/x-python",
   "name": "python",
   "nbconvert_exporter": "python",
   "pygments_lexer": "ipython3",
   "version": "3.12.7"
  }
 },
 "nbformat": 4,
 "nbformat_minor": 5
}
